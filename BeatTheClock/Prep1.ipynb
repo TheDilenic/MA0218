{
 "cells": [
  {
   "cell_type": "markdown",
   "id": "15711e9c",
   "metadata": {},
   "source": [
    "# Winston James Anonat Bocol\n",
    "\n",
    "## Prep 1 - Use quizData_Set E\n",
    "---\n",
    "Print the overall statistical description of the data and plot standard statistical distributions for each variable. \n",
    "\n",
    "Comment : Which variable has most “Normal” looking distribution? Which variable has most number of outliers?\n",
    "\n",
    "You should only take 12 mins (maximum)  for this!"
   ]
  },
  {
   "cell_type": "markdown",
   "id": "6856e758",
   "metadata": {},
   "source": []
  }
 ],
 "metadata": {
  "language_info": {
   "name": "python"
  }
 },
 "nbformat": 4,
 "nbformat_minor": 5
}
