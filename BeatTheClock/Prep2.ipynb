{
 "cells": [
  {
   "cell_type": "markdown",
   "id": "15711e9c",
   "metadata": {},
   "source": [
    "# Winston James Anonat Bocol\n",
    "\n",
    "## Prep 2 - Use quizData_Set E\n",
    "---\n",
    "\n",
    "Print the mutual correlation amongst all the variables using a correlation heatmap.\n",
    "\n",
    "Which variable has the highest absolute correlation with pHindex? Is such a strong correlation helpful in predicting pHindex?\n",
    "\n",
    "You should only take 6 mins (maximum)  for this!"
   ]
  },
  {
   "cell_type": "markdown",
   "id": "6856e758",
   "metadata": {},
   "source": []
  }
 ],
 "metadata": {
  "language_info": {
   "name": "python"
  }
 },
 "nbformat": 4,
 "nbformat_minor": 5
}
