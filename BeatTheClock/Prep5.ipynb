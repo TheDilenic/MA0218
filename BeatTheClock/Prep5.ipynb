{
 "cells": [
  {
   "cell_type": "markdown",
   "id": "15711e9c",
   "metadata": {},
   "source": [
    "# Winston James Anonat Bocol\n",
    "\n",
    "## Prep 5 - Use quizData_Set F \n",
    "---\n",
    "\n",
    "Partition the dataset given randomly into Train and Test datasets – 70% for Train and 30% for Test. On the Train set, fit three uni-variate Decision Tree models for Alcohol against each of the three numeric variables, with max_depth = 2. \n",
    "\n",
    "For each such tree model, print the classification accuracy of the model you fit. \n",
    "\n",
    "Also compute the Precision and Recall scores for both train and test datasets.\n",
    "\n",
    "Beat the clock time: 16 mins"
   ]
  },
  {
   "cell_type": "markdown",
   "id": "6856e758",
   "metadata": {},
   "source": []
  }
 ],
 "metadata": {
  "language_info": {
   "name": "python"
  }
 },
 "nbformat": 4,
 "nbformat_minor": 5
}
