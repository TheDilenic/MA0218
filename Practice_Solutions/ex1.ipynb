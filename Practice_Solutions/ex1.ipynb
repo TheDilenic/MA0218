{
 "cells": [
  {
   "cell_type": "markdown",
   "id": "ec1f864e",
   "metadata": {},
   "source": [
    "# Winston James Anonat Bocol\n",
    "\n",
    "### U24200087G | Exercise 1\n",
    "\n",
    "---\n"
   ]
  },
  {
   "cell_type": "markdown",
   "id": "20b70707",
   "metadata": {},
   "source": []
  }
 ],
 "metadata": {
  "language_info": {
   "name": "python"
  }
 },
 "nbformat": 4,
 "nbformat_minor": 5
}
