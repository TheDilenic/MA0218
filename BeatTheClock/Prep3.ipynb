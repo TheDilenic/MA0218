{
 "cells": [
  {
   "cell_type": "markdown",
   "id": "15711e9c",
   "metadata": {},
   "source": [
    "# Winston James Anonat Bocol\n",
    "\n",
    "## Prep 3 - Use quizData_Set E\n",
    "---\n",
    "Visualize the relationship amongst pHindex and the other variables using mutual jointplots and overall pairplot.\n",
    "\n",
    "Which of the variables has the strongest linear relation with pHindex? Is it useful in prediction?\n",
    "\n",
    "You should only take 7 mins (maximum)  for this!"
   ]
  },
  {
   "cell_type": "markdown",
   "id": "6856e758",
   "metadata": {},
   "source": []
  }
 ],
 "metadata": {
  "language_info": {
   "name": "python"
  }
 },
 "nbformat": 4,
 "nbformat_minor": 5
}
