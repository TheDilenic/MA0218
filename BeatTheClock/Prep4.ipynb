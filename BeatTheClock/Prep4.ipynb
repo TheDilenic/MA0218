{
 "cells": [
  {
   "cell_type": "markdown",
   "id": "15711e9c",
   "metadata": {},
   "source": [
    "# Winston James Anonat Bocol\n",
    "\n",
    "## Prep 4 - Use quizData_Set E\n",
    "---\n",
    "\n",
    "Partition (randomly split) the dataset randomly into Train and Test datasets – 65% for Train and 35% for Test. \n",
    "\n",
    "On the Train set, fit three uni-variate Linear Regression models for pHindex against each of the three other variables. \n",
    "\n",
    "For each such linear model, print the coefficients of the model you fit, and plot the regression line on a scatterplot.\n",
    "\n",
    "You should only take 12 mins (maximum)  for this!\n",
    "\n",
    "Hint: You could write a function to do the above and use a for-loop to run the function three times for the three variables. \n",
    "This would save you a lot of time!"
   ]
  },
  {
   "cell_type": "markdown",
   "id": "6856e758",
   "metadata": {},
   "source": []
  }
 ],
 "metadata": {
  "language_info": {
   "name": "python"
  }
 },
 "nbformat": 4,
 "nbformat_minor": 5
}
